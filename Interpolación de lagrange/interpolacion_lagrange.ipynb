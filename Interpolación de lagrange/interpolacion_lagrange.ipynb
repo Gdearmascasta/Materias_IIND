{
  "nbformat": 4,
  "nbformat_minor": 0,
  "metadata": {
    "colab": {
      "provenance": [],
      "include_colab_link": true
    },
    "kernelspec": {
      "name": "python3",
      "display_name": "Python 3"
    },
    "language_info": {
      "name": "python"
    }
  },
  "cells": [
    {
      "cell_type": "markdown",
      "metadata": {
        "id": "view-in-github",
        "colab_type": "text"
      },
      "source": [
        "<a href=\"https://colab.research.google.com/github/Gdearmascasta/Materias_IIND/blob/main/interpolacion_lagrange.ipynb\" target=\"_parent\"><img src=\"https://colab.research.google.com/assets/colab-badge.svg\" alt=\"Open In Colab\"/></a>"
      ]
    },
    {
      "cell_type": "markdown",
      "source": [
        "|   $x$  | $1.0$ |     $4.0$    |     $6.0$     |      $5.0$    |  \n",
        "|--------|-------|--------------|---------------|---------------|\n",
        "| $f(x)$ | $0.5$ | $0.23529412$ | $0.97297297$  | $0.96153846$  |  \n",
        "\n",
        "a) A partir de esos datos estime el valor de $f(2.8)$ utilizando un polinomio de interpolación de LAGRANGE de tercer grado  \n",
        "b) Si se conoce que la función es $f(x) = \\frac{x^2}{1 + x^2}$ calcule el error porcentual de la estimación del punto a) y enuncie sus conclusiones"
      ],
      "metadata": {
        "id": "dZiLTOXjkZ2k"
      }
    },
    {
      "cell_type": "code",
      "execution_count": null,
      "metadata": {
        "id": "-bwGJ3IHkYOz"
      },
      "outputs": [],
      "source": [
        "# Guardar en las listas los valores dados en el enunciado\n",
        "\n",
        "x: list[float] = [1.0, 4.0, 6.0, 5.0]\n",
        "y: list[float] = [0.5, 0.23529412, 0.97297297, 0.96153846]\n",
        "obj: float = 2.8"
      ]
    },
    {
      "cell_type": "markdown",
      "source": [
        "# Buscar el polinomio de interpolación por medio de Lagrange"
      ],
      "metadata": {
        "id": "B0CaFFfLkc6U"
      }
    },
    {
      "cell_type": "code",
      "source": [
        "# Definir la función que calcula el polinomio de interpolación de Lagrange\n",
        "def lagrange_pol(x:list[float], y:list[float]) -> callable:\n",
        "\t\"\"\" Calcula el polinomio de interpolación de Lagrange\n",
        "\t dada una lista de puntos x y f(x)\n",
        "\n",
        "\t-- Entrada\n",
        "    x: Lista con los valores de x\n",
        "    y: Lista con los valores de f(x)\n",
        "\n",
        "    -- Salida\n",
        "    Retorna la función de interpolación obtenida \"\"\"\n",
        "\n",
        "\tn: int = len(x)\n",
        "\n",
        "\tdef L(value, i) -> float:\n",
        "\t\t\"\"\" Calcula Li(value) = ∏{j=0 y i!=j to n} (value - xj)/(xi - xj) \"\"\"\n",
        "\n",
        "\t\tresult: float = 1.0\n",
        "\t\tfor j in range(n):\n",
        "\t\t\tif i != j:\n",
        "\t\t\t\tresult *= (value-x[j]) / (x[i]-x[j])\n",
        "\n",
        "\t\treturn result\n",
        "\n",
        "\n",
        "\tdef P(value) -> float:\n",
        "\t\t\"\"\" Es la función de interpolación de la forma:\n",
        "\t\t P(value) = Σ{i=0 to n} Yi Li(value)\"\"\"\n",
        "\n",
        "\t\tresult: float = 0.0\n",
        "\t\tfor i in range(n):\n",
        "\t\t\tresult += y[i] * L(value, i)\n",
        "\n",
        "\t\treturn result\n",
        "\n",
        "\n",
        "\treturn P\n",
        "\n",
        "\n",
        "# Definir la función dada en el inciso b)\n",
        "def F(x) -> float:\n",
        "\t\"\"\" Es la función de la forma:\n",
        "\t f(x) = x^2 / (1 + x^2) \"\"\"\n",
        "\treturn x*x / (1 + x*x)\n"
      ],
      "metadata": {
        "id": "qYibn7XG_f9Y"
      },
      "execution_count": null,
      "outputs": []
    },
    {
      "cell_type": "markdown",
      "source": [
        "## Con la lista de `x` y `y` sin cambiar"
      ],
      "metadata": {
        "id": "N-dAjsdm-9oP"
      }
    },
    {
      "cell_type": "markdown",
      "source": [
        "### Inciso a)\n",
        "\n",
        "En todo caso, si se calcula la función de interpolación por medio de Lagrange, queda de la siguiente manera:\n",
        "\n",
        "$$\n",
        "P(x) = 0.5\\frac{(x-4)(x-6)(x-5)}{(1-4)(1-6)(1-5)} + 0.23529412\\frac{(x-1)(x-6)(x-5)}{(4-1)(4-6)(4-5)} + 0.97297297\\frac{(x-1)(x-4)(x-5)}{(6-1)(6-4)(6-5)} + 0.96153846\\frac{(x-1)(x-4)(x-6)}{(5-1)(5-4)(5-6)}\n",
        "$$\n",
        "\n",
        "$$\n",
        "P(x) = 0.5\\frac{(x-4)(x-6)(x-5)}{-60} + 0.23529412\\frac{(x-1)(x-6)(x-5)}{6} + 0.97297297\\frac{(x-1)(x-4)(x-5)}{10} + 0.96153846\\frac{(x-1)(x-4)(x-6)}{-4}  \n",
        "$$\n",
        "\n",
        "$$\n",
        "P(x) = -\\frac{1}{120}(x-4)(x-6)(x-5) + 0.0392156867(x-1)(x-6)(x-5) + 0.097297297(x-1)(x-4)(x-5) - 0.240384615(x-1)(x-4)(x-6)\n",
        "$$\n"
      ],
      "metadata": {
        "id": "jwNJkSR5kfcX"
      }
    },
    {
      "cell_type": "code",
      "source": [
        "# Calcular el valor de f(2.8)\n",
        "P: callable = lagrange_pol(x, y)\n",
        "print(f'La estimación de f({obj}) es: {P(obj)}')"
      ],
      "metadata": {
        "colab": {
          "base_uri": "https://localhost:8080/"
        },
        "id": "U-viTS24keSL",
        "outputId": "0aaba71f-29af-49b9-b29b-a0fd7a230205"
      },
      "execution_count": null,
      "outputs": [
        {
          "output_type": "stream",
          "name": "stdout",
          "text": [
            "La estimación de f(2.8) es: -0.631840522096\n"
          ]
        }
      ]
    },
    {
      "cell_type": "markdown",
      "source": [
        "### Inciso b)"
      ],
      "metadata": {
        "id": "ZoftQQoOkidF"
      }
    },
    {
      "cell_type": "code",
      "source": [
        "# Calcular el error porcentual\n",
        "value_teo: float = F(obj)\n",
        "value_exp: float = P(obj)\n",
        "error: float = abs((value_teo - value_exp) / value_teo)\n",
        "\n",
        "print(f'{value_teo = } --- {value_exp = }')\n",
        "print(f'El error porcentual entre la estimación y la función real es: {error:%}')"
      ],
      "metadata": {
        "colab": {
          "base_uri": "https://localhost:8080/"
        },
        "id": "GKIBp7yJkhRf",
        "outputId": "b4511cf1-3118-4f2c-f561-0858811a1b0c"
      },
      "execution_count": null,
      "outputs": [
        {
          "output_type": "stream",
          "name": "stdout",
          "text": [
            "value_teo = 0.8868778280542985 --- value_exp = -0.631840522096\n",
            "El error porcentual entre la estimación y la función real es: 171.243243%\n"
          ]
        }
      ]
    },
    {
      "cell_type": "markdown",
      "source": [
        "## Con la lista de `x` y `y` cambiadas para que en $x = 4$ esté en la función real"
      ],
      "metadata": {
        "id": "rYIV4REV_nJ4"
      }
    },
    {
      "cell_type": "code",
      "source": [
        "y1: list[float] = [F(xi) for xi in x]\n",
        "y1"
      ],
      "metadata": {
        "colab": {
          "base_uri": "https://localhost:8080/"
        },
        "id": "DFh8cH4T_wvG",
        "outputId": "7d688d12-0e81-4de6-b23c-d0081d722f49"
      },
      "execution_count": null,
      "outputs": [
        {
          "output_type": "execute_result",
          "data": {
            "text/plain": [
              "[0.5, 0.9411764705882353, 0.972972972972973, 0.9615384615384616]"
            ]
          },
          "metadata": {},
          "execution_count": 9
        }
      ]
    },
    {
      "cell_type": "markdown",
      "source": [
        "### Inciso a)"
      ],
      "metadata": {
        "id": "wxtumGQwAlCL"
      }
    },
    {
      "cell_type": "code",
      "source": [
        "P1: callable = lagrange_pol(x, y1)\n",
        "print(f'La estimación de f({obj}) es: {P1(obj)}')"
      ],
      "metadata": {
        "colab": {
          "base_uri": "https://localhost:8080/"
        },
        "id": "3O47a2bUADzV",
        "outputId": "227f1ad1-6880-4329-beeb-a37ca57a39dc"
      },
      "execution_count": null,
      "outputs": [
        {
          "output_type": "stream",
          "name": "stdout",
          "text": [
            "La estimación de f(2.8) es: 0.8589830011006483\n"
          ]
        }
      ]
    },
    {
      "cell_type": "markdown",
      "source": [
        "### Inciso b)"
      ],
      "metadata": {
        "id": "EljSWW_6ApTi"
      }
    },
    {
      "cell_type": "code",
      "source": [
        "# Calcular el error porcentual\n",
        "value_teo1: float = F(obj)\n",
        "value_exp1: float = P1(obj)\n",
        "error1: float = abs((value_teo1 - value_exp1) / value_teo1)\n",
        "\n",
        "print(f'{value_teo1 = } --- {value_exp1 = }')\n",
        "print(f'El error porcentual entre la estimación y la función real es: {error1:%}')"
      ],
      "metadata": {
        "colab": {
          "base_uri": "https://localhost:8080/"
        },
        "id": "Ueh4X1rlATCR",
        "outputId": "d70118d8-1ae8-418e-bc34-feb42d05707c"
      },
      "execution_count": null,
      "outputs": [
        {
          "output_type": "stream",
          "name": "stdout",
          "text": [
            "value_teo1 = 0.8868778280542985 --- value_exp1 = 0.8589830011006483\n",
            "El error porcentual entre la estimación y la función real es: 3.145284%\n"
          ]
        }
      ]
    },
    {
      "cell_type": "markdown",
      "source": [
        "# Gráficas con todas las comparaciones"
      ],
      "metadata": {
        "id": "hguVagVjkk1w"
      }
    },
    {
      "cell_type": "code",
      "source": [
        "import numpy as np\n",
        "import matplotlib.pyplot as plt\n",
        "\n",
        "\n",
        "dom: np.ndarray = np.linspace(0, 7)\n",
        "dom1: np.ndarray = np.linspace(0, 10, 1000)\n",
        "\n",
        "p: np.ndarray = P(dom)\n",
        "p1: np.ndarray = P1(dom1)\n",
        "\n",
        "f: np.ndarray = F(dom)\n",
        "f1: np.ndarray = F(dom1)"
      ],
      "metadata": {
        "id": "O3hxv8TDkjbj"
      },
      "execution_count": null,
      "outputs": []
    },
    {
      "cell_type": "markdown",
      "source": [
        "## Sin los cambios de `x` y `y`"
      ],
      "metadata": {
        "id": "93C7VHli_Sc3"
      }
    },
    {
      "cell_type": "code",
      "source": [
        "plt.plot(dom, p, label='P(x)', color='#1f77b4')  # Grafica de la aproximación de f(x)\n",
        "plt.plot(obj, P(obj), marker='o', linewidth=0, label=f'P({obj})')\n",
        "\n",
        "plt.plot(dom, f, label='f(x)', color='#ff7f0e')  # Gráfica con f(x) real\n",
        "plt.plot(obj, F(obj), marker='o', linewidth=0, label=f'f({obj})')\n",
        "\n",
        "plt.plot(x, y, marker='.', linewidth=0, label='Puntos dados')  # Gráfica con los puntos dados en el enunciado\n",
        "\n",
        "plt.legend()\n",
        "plt.grid()\n",
        "plt.show()"
      ],
      "metadata": {
        "colab": {
          "base_uri": "https://localhost:8080/",
          "height": 430
        },
        "id": "QC5eoe-Rkl8D",
        "outputId": "75bfa122-83b6-41d1-8ceb-5795e0987c77"
      },
      "execution_count": null,
      "outputs": [
        {
          "output_type": "display_data",
          "data": {
            "text/plain": [
              "<Figure size 640x480 with 1 Axes>"
            ],
            "image/png": "[encoded data removed]"
          },
          "metadata": {}
        }
      ]
    },
    {
      "cell_type": "markdown",
      "source": [
        "## Con los cambios de `x` y `y`"
      ],
      "metadata": {
        "id": "G3-16Mfq_ViF"
      }
    },
    {
      "cell_type": "code",
      "source": [
        "plt.plot(dom1, p1, label='$P_1(x)$', color='#1f77b4')  # Grafica de la aproximación de f(x)\n",
        "plt.plot(obj, P1(obj), marker='o', linewidth=0, label=f'$P_1({obj})$')\n",
        "\n",
        "plt.plot(dom1, f1, label='f(x)', color='#ff7f0e')  # Gráfica con f(x) real\n",
        "plt.plot(obj, F(obj), marker='o', linewidth=0, label=f'f({obj})')\n",
        "\n",
        "plt.plot(x, y1, marker='.', linewidth=0, label='Puntos dados')  # Gráfica con los puntos dados en el enunciado\n",
        "\n",
        "plt.legend()\n",
        "plt.grid()\n",
        "plt.show()"
      ],
      "metadata": {
        "id": "C0_mPJf2km7F",
        "colab": {
          "base_uri": "https://localhost:8080/",
          "height": 430
        },
        "outputId": "1b5164a6-d14e-4dee-b5a1-2cf83515be7f"
      },
      "execution_count": null,
      "outputs": [
        {
          "output_type": "display_data",
          "data": {
            "text/plain": [
              "<Figure size 640x480 with 1 Axes>"
            ],
            "image/png": "[encoded data removed]"
          },
          "metadata": {}
        }
      ]
    }
  ]
}